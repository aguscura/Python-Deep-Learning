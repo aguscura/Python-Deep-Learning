{
  "nbformat": 4,
  "nbformat_minor": 0,
  "metadata": {
    "colab": {
      "name": "CNN.ipynb",
      "provenance": [],
      "authorship_tag": "ABX9TyOyZqFBAkJAxmfOzm2B6q8q",
      "include_colab_link": true
    },
    "kernelspec": {
      "name": "python3",
      "display_name": "Python 3"
    },
    "language_info": {
      "name": "python"
    }
  },
  "cells": [
    {
      "cell_type": "markdown",
      "metadata": {
        "id": "view-in-github",
        "colab_type": "text"
      },
      "source": [
        "<a href=\"https://colab.research.google.com/github/aguscura/Python-Deep-Learning/blob/main/CNN.ipynb\" target=\"_parent\"><img src=\"https://colab.research.google.com/assets/colab-badge.svg\" alt=\"Open In Colab\"/></a>"
      ]
    },
    {
      "cell_type": "markdown",
      "source": [
        "Algo que distinque a las redes neuronales convolucionales es que hacen la **suposición de que las entradas son imágenes**. Esto nos permite reconocer elementos concretos en las imágenes."
      ],
      "metadata": {
        "id": "QfacbAWn8S9J"
      }
    },
    {
      "cell_type": "markdown",
      "source": [
        "Dos capas que definen las CNN y puede expresarse como **grupos de neuronas especializadas en 2 operaciones**: *convolución y pooling*"
      ],
      "metadata": {
        "id": "0j2s9L7e8krz"
      }
    },
    {
      "cell_type": "markdown",
      "source": [
        "Diferencia principal entre una capa densamente conectada y una capa convolucional es que la capa densa aprende patrones globales en el espacio global. En cambio, la capa convolucional aprende patrones locales dentro de la imágen en pequeñas ventanas 2D.\n",
        "\n",
        "Lo que hace la capa convolucional es detectar features en las imagenes (ojos, boca, nariz). Esto permite que una vez que la red aprende una determinada cosa (ejemplo, cómo es un ojo) puede reconocerlo en cualquier parte de la imagen. En cambio, una red densamente conectada tiene que aprender de nuevo si el ojo (siguiendo el ejemplo) aparece en otro lado. "
      ],
      "metadata": {
        "id": "1OvOo2RV9yad"
      }
    },
    {
      "cell_type": "markdown",
      "source": [
        "Otra cosa interesante de las capas conv. es que pueden aprender jerarquías (desde patrones básicos hasta patrones mucho más complejos). Lo que hace es aprender cosas basicas y despues usa este aprendizaje para generar patrones de mayor complejidad y asi sucesivamente. "
      ],
      "metadata": {
        "id": "Q9Q8xKxF-8SF"
      }
    },
    {
      "cell_type": "markdown",
      "source": [
        "Estas capas usan tensores 3D. Dos ejes se usan para la ubicación en el plano 2D. Un tercer eje se usa para el canal o profundidad (\"depth\"). Este tercer canal puede tener una dimension (blanco y negro) o por ejemplo 3 dimensiones para RGB color."
      ],
      "metadata": {
        "id": "g2dNQ-az_PvX"
      }
    },
    {
      "cell_type": "markdown",
      "source": [
        "Un detalle a remarcar es que **no se conectan TODAS las neuronas de la capa de entrada con TODAS las neuronas de la primer capa oculta** convolucional. ***¡Esto si sucedia en las redes densamente conectadas!***"
      ],
      "metadata": {
        "id": "VNdiQCe_ALWh"
      }
    },
    {
      "cell_type": "markdown",
      "source": [
        ""
      ],
      "metadata": {
        "id": "Y1d61Q_fA0wE"
      }
    },
    {
      "cell_type": "code",
      "execution_count": null,
      "metadata": {
        "id": "4cLsDAqZ683A"
      },
      "outputs": [],
      "source": [
        ""
      ]
    }
  ]
}