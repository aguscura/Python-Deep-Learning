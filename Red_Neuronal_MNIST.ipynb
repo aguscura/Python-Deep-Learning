{
  "nbformat": 4,
  "nbformat_minor": 0,
  "metadata": {
    "colab": {
      "name": "Red Neuronal MNIST.ipynb",
      "provenance": [],
      "authorship_tag": "ABX9TyO5lKDt3Qeib+FUC1PRAkYV",
      "include_colab_link": true
    },
    "kernelspec": {
      "name": "python3",
      "display_name": "Python 3"
    },
    "language_info": {
      "name": "python"
    }
  },
  "cells": [
    {
      "cell_type": "markdown",
      "metadata": {
        "id": "view-in-github",
        "colab_type": "text"
      },
      "source": [
        "<a href=\"https://colab.research.google.com/github/aguscura/Python-Deep-Learning/blob/main/Red_Neuronal_MNIST.ipynb\" target=\"_parent\"><img src=\"https://colab.research.google.com/assets/colab-badge.svg\" alt=\"Open In Colab\"/></a>"
      ]
    },
    {
      "cell_type": "code",
      "source": [
        "#Entrenamiento (Train)\n",
        "#Prueba (Test)\n",
        "#Validación"
      ],
      "metadata": {
        "id": "HaBEYzjiSZH6"
      },
      "execution_count": null,
      "outputs": []
    },
    {
      "cell_type": "code",
      "source": [
        "import tensorflow as tf"
      ],
      "metadata": {
        "id": "PoLdiEvASfB4"
      },
      "execution_count": null,
      "outputs": []
    },
    {
      "cell_type": "code",
      "execution_count": null,
      "metadata": {
        "id": "PyvGEmf5RWs3"
      },
      "outputs": [],
      "source": [
        "#Precarga de datos, la base MNIST viene por defecto en Keras.\n",
        "mnist = tf.keras.datasets.mnist\n",
        "\n",
        "(x_train, y_train), (x_test, y_test) = mnist.load_data()"
      ]
    },
    {
      "cell_type": "code",
      "source": [
        "import matplotlib.pyplot as plt\n",
        "\n",
        "plt.imshow(x_train[8], cmap=plt.cm.binary)\n",
        "\n",
        "\"\"\" cmap: Colormap.\n",
        "    Default: rcParams[\"image.cmap\"] (default: 'viridis')\n",
        "    The Colormap instance or registered colormap name used to map scalar data to colors. This parameter is ignored for RGB(A) data.\n",
        "                                                                                                                                    \"\"\""
      ],
      "metadata": {
        "colab": {
          "base_uri": "https://localhost:8080/",
          "height": 301
        },
        "id": "x_UqRtj9S-8m",
        "outputId": "b2be3118-8a7d-44a0-cba3-297e81841ee0"
      },
      "execution_count": null,
      "outputs": [
        {
          "output_type": "execute_result",
          "data": {
            "text/plain": [
              "' cmap: Colormap.\\n    Default: rcParams[\"image.cmap\"] (default: \\'viridis\\')\\n    The Colormap instance or registered colormap name used to map scalar data to colors. This parameter is ignored for RGB(A) data.\\n                                                                                                                                    '"
            ],
            "application/vnd.google.colaboratory.intrinsic+json": {
              "type": "string"
            }
          },
          "metadata": {},
          "execution_count": 37
        },
        {
          "output_type": "display_data",
          "data": {
            "text/plain": [
              "<Figure size 432x288 with 1 Axes>"
            ],
            "image/png": "[encoded data removed]"
          },
          "metadata": {
            "needs_background": "light"
          }
        }
      ]
    },
    {
      "cell_type": "code",
      "source": [
        "y_train[8]"
      ],
      "metadata": {
        "colab": {
          "base_uri": "https://localhost:8080/"
        },
        "id": "MBfGzwDZT1RO",
        "outputId": "65514c50-716c-416f-8105-2a63b96c5e6e"
      },
      "execution_count": null,
      "outputs": [
        {
          "output_type": "execute_result",
          "data": {
            "text/plain": [
              "1"
            ]
          },
          "metadata": {},
          "execution_count": 38
        }
      ]
    },
    {
      "cell_type": "code",
      "source": [
        "#Dimensiones del tensor x_train\n",
        "print(x_train.ndim)\n",
        "\n",
        "#Forma del tensor x_train\n",
        "print(x_train.shape)\n",
        "\n",
        "#Tipo de datos del tensor x_train\n",
        "print(x_train.dtype)\n",
        "\n",
        "\"\"\" x_train es un tensor 3D de enteros de 8bits. \n",
        "    Concretamente, es un VECTOR de 60 mil matrices 2D de 28x28 enteros. \n",
        "    Cada una de esas matrices es una imagen en escala de grises con coeficientes entre 0 y 255.\"\"\""
      ],
      "metadata": {
        "colab": {
          "base_uri": "https://localhost:8080/",
          "height": 105
        },
        "id": "t-ZnmMHaT-_Y",
        "outputId": "63333412-604a-48fd-f875-c25c0b938aff"
      },
      "execution_count": null,
      "outputs": [
        {
          "output_type": "stream",
          "name": "stdout",
          "text": [
            "3\n",
            "(60000, 28, 28)\n",
            "uint8\n"
          ]
        },
        {
          "output_type": "execute_result",
          "data": {
            "text/plain": [
              "' x_train es un tensor 3D de enteros de 8bits. \\n    Concretamente, es un VECTOR de 60 mil matrices 2D de 28x28 enteros. \\n    Cada una de esas matrices es una imagen en escala de grises con coeficientes entre 0 y 255.'"
            ],
            "application/vnd.google.colaboratory.intrinsic+json": {
              "type": "string"
            }
          },
          "metadata": {},
          "execution_count": 39
        }
      ]
    },
    {
      "cell_type": "markdown",
      "source": [
        "**IMPORTANTE** (Página 101).\n",
        "En este ejemplo estamos tratando un ejemplo en blanco y negro, pero en general una imagen en color suele tener 3 dimensiones. Altura, anchura y profundidad de color. Las imágenes en escala de grises (como los digitos MNIST) tienen un solo canal de color y, por lo tanto, pueden almacenarse en tensores 2D CADA UNA DE ELLAS. Pero habitualmente los tensores de las imágenes son 3D. (O sea, cada imagen individualmente es un tensor 3D). \n",
        "\n",
        "Por ejemplo, 64 imágenes en escala de grises de tamaño 128x128 podrían almacenarse en un tensor de la forma (64, 128, 128, 1). En cambio, un conjunto de 64 imágenes en color de tamaño 128x128 podría almacenarse en un tensor de la forma (64, 128, 128, 3). Esos 3 canales son para el uso de la codificacion RGB. En ambos casos hablamos de un tensor 4D con la forma (samples, height, width, channels).\n",
        "\n",
        "Repaso: Cada imágen podemos generalizarla como un tensor 3D. Es decir, un cubo.\n",
        "Ese cubo tendrá 128x128 (alto y ancho) y 3 de espesor. Cada una de esas 3 matrices, representa las intensidades en Red, Green y Blue.\n",
        "Encima, tenemos 64 cubos por lo que finalmente terminamos teniendo un vector de 64 cubos.\n",
        "Para escala de grises, tenemos un solo canal de color, entonces no tenemos cubos. En su lugar tenemos matrices directamente como el ejemplo inicial. \n",
        "\n",
        "Nota: Cualquier conjunto de datos se puede representar como un tensor. Por ejemplo un video es una secuencia de fotos (fotogramas, frames). Podemos representarlo en un tensor 5D: (samples, frames, height, width, channels)."
      ],
      "metadata": {
        "id": "JPCLQNleVd0D"
      }
    },
    {
      "cell_type": "code",
      "source": [
        "#Manipular un tensor: Vamos a crear un mini tensor con las primeras 100 imagenes del anterior que contenía 60 mil.\n",
        "\n",
        "first_100 = x_train[0:100,:,:]\n",
        "print(first_100.shape)\n",
        "\n",
        "#EQUIVALENTE!!!\n",
        "first_100_bis = x_train[0:100, 0:28, 0:28]\n",
        "print(first_100_bis.shape)"
      ],
      "metadata": {
        "colab": {
          "base_uri": "https://localhost:8080/"
        },
        "id": "4UbMDS5pYpon",
        "outputId": "3f7e852a-f117-4187-b3ae-eeeb60a10136"
      },
      "execution_count": null,
      "outputs": [
        {
          "output_type": "stream",
          "name": "stdout",
          "text": [
            "(100, 28, 28)\n",
            "(100, 28, 28)\n"
          ]
        }
      ]
    },
    {
      "cell_type": "code",
      "source": [
        "#Ahora, en vez de recortar la cantidad de imagenes, recorto los pixeles. \n",
        "#Tomo esquina INFERIOR DERECHA\n",
        "\n",
        "inferior_derecha = x_train[:, 14:, 14:]\n",
        "print(inferior_derecha.shape)"
      ],
      "metadata": {
        "colab": {
          "base_uri": "https://localhost:8080/"
        },
        "id": "JlQAa5XcF2zz",
        "outputId": "f678a4ee-6598-42ad-d8a9-d67a3ab2496c"
      },
      "execution_count": null,
      "outputs": [
        {
          "output_type": "stream",
          "name": "stdout",
          "text": [
            "(60000, 14, 14)\n"
          ]
        }
      ]
    },
    {
      "cell_type": "code",
      "source": [
        "x_test[11].shape"
      ],
      "metadata": {
        "colab": {
          "base_uri": "https://localhost:8080/"
        },
        "id": "5Zx35HmcMSHv",
        "outputId": "78b80c0c-6874-4fc4-938c-589b3cc2624b"
      },
      "execution_count": null,
      "outputs": [
        {
          "output_type": "execute_result",
          "data": {
            "text/plain": [
              "(28, 28)"
            ]
          },
          "metadata": {},
          "execution_count": 42
        }
      ]
    },
    {
      "cell_type": "code",
      "source": [
        "#Idem anterior, pero cortando la PARTE CENTRAL de la imagen. Usando indices relativos:\n",
        "#Nota, el recorte también es de 14x14 pixeles en este caso.\n",
        "\n",
        "centro_imagenes = x_train[:, 7:-7, 7:-7]\n",
        "centro_imagenes.shape"
      ],
      "metadata": {
        "colab": {
          "base_uri": "https://localhost:8080/"
        },
        "id": "Z75etx9AGP7q",
        "outputId": "ab735f31-8a60-42a7-c9a9-ce6086025847"
      },
      "execution_count": null,
      "outputs": [
        {
          "output_type": "execute_result",
          "data": {
            "text/plain": [
              "(60000, 14, 14)"
            ]
          },
          "metadata": {},
          "execution_count": 43
        }
      ]
    },
    {
      "cell_type": "markdown",
      "source": [
        "# PREPROCESAMIENTO"
      ],
      "metadata": {
        "id": "ts72YfItGp3E"
      }
    },
    {
      "cell_type": "markdown",
      "source": [
        "El objetivo del preprocesamiento de datos es adaptar los mismos a un formato que permita un mejor aprovechamiento por parte de las redes neuronales.\n",
        "Los ejemplos más comunes para imagenes y redes neuronales son:\n",
        "**VECTORIZACION,\n",
        "NORMALIZACION,\n",
        "EXTRACCION DE CARACTERISTICAS**"
      ],
      "metadata": {
        "id": "X8gGfDBZG2Df"
      }
    },
    {
      "cell_type": "code",
      "source": [
        "#NORMALIZACION - Las matrices de 28x28 contienen numeros que van del 0 al 255 de tipo Uint8. Conviene normalizarlos a float32 en el rango de 0 a 1. \n",
        "# Esto se hace dividiendo toda la matriz por 255. \n",
        "\n",
        "\n",
        "# 1ro cambio de tipo\n",
        "x_train = x_train.astype('float32')\n",
        "x_test = x_test.astype('float32')\n",
        "\n",
        "x_train /= 255\n",
        "x_test /= 255\n",
        "\n",
        "\"\"\" Este tipo de normalizacion se hace para facilitar que converja el proceso de entrenamiento. Porque, en general, para alimentar una red no se usan datos con valores que sean mucho mas grandes\n",
        "que los valores de los pesos de la red \"\"\""
      ],
      "metadata": {
        "id": "3gCB_KQfHSao",
        "colab": {
          "base_uri": "https://localhost:8080/",
          "height": 53
        },
        "outputId": "86a71d75-07b7-4c77-a171-990ca60b16fb"
      },
      "execution_count": null,
      "outputs": [
        {
          "output_type": "execute_result",
          "data": {
            "text/plain": [
              "' Este tipo de normalizacion se hace para facilitar que converja el proceso de entrenamiento. Porque, en general, para alimentar una red no se usan datos con valores que sean mucho mas grandes\\nque los valores de los pesos de la red '"
            ],
            "application/vnd.google.colaboratory.intrinsic+json": {
              "type": "string"
            }
          },
          "metadata": {},
          "execution_count": 44
        }
      ]
    },
    {
      "cell_type": "code",
      "source": [
        "# CAMBIO DE FORMA (RESHAPE)\n",
        "\"\"\" Cambiar la forma de los tensores sin cambiar los datos. Para facilitar la entrada de los datos a la red neuronal, se transforma el tensor de una imagen 2D (matriz de 28x28) a un vector de 1D. \n",
        "Es decir, la matriz de 28x28 numeros se puede representar como un vector de 784 numeros (concatenando fila a fila). Este es el formato de entrada que acepta la red neuronal densamente conectada.\n",
        "\"\"\"\n",
        "\n",
        "#En el siguiente ejemplo, la primera dimension indexa la imagen y la segunda dimension indexa el píxel en cada imagen.\n",
        "x_train = x_train.reshape(60000,784)\n",
        "x_test = x_test.reshape(10000,784)\n",
        "\n",
        "print(x_train.shape)\n",
        "print(x_test.shape)\n"
      ],
      "metadata": {
        "colab": {
          "base_uri": "https://localhost:8080/"
        },
        "id": "9ZzfS1yfIXdq",
        "outputId": "f7b7ac94-bc6d-465c-e9d9-c12c0e255c7b"
      },
      "execution_count": null,
      "outputs": [
        {
          "output_type": "stream",
          "name": "stdout",
          "text": [
            "(60000, 784)\n",
            "(10000, 784)\n"
          ]
        }
      ]
    },
    {
      "cell_type": "code",
      "source": [
        "# Ahora vamos a trabajar con el vector de las labels. El vector y. \n",
        "# Hacemos un one hot encoding. Para cada imagen, el vector de salida va a tener 10 posiciones. 9 van a ser ceros. El 1 estará en la etiqueta correcta.\n",
        "\n",
        "from tensorflow.keras.utils import to_categorical\n",
        "\n",
        "#Valor antes de aplicar la transformación para la primer imagen:\n",
        "print(y_train[0])\n",
        "print(y_test[0])\n",
        "\n",
        "print(y_train.shape)\n",
        "print(y_test.shape)\n",
        "\n",
        "y_train = to_categorical(y_train, num_classes=10)\n",
        "y_test = to_categorical(y_test, num_classes=10)\n"
      ],
      "metadata": {
        "colab": {
          "base_uri": "https://localhost:8080/"
        },
        "id": "x6mTq71JJsXE",
        "outputId": "38b61f34-1b69-474e-aa08-85776bfd350f"
      },
      "execution_count": null,
      "outputs": [
        {
          "output_type": "stream",
          "name": "stdout",
          "text": [
            "5\n",
            "7\n",
            "(60000,)\n",
            "(10000,)\n"
          ]
        }
      ]
    },
    {
      "cell_type": "code",
      "source": [
        "y_train.shape"
      ],
      "metadata": {
        "colab": {
          "base_uri": "https://localhost:8080/"
        },
        "id": "AJe-55ABN0Dq",
        "outputId": "786971df-df25-45e2-c483-f8ce9ee5b00d"
      },
      "execution_count": null,
      "outputs": [
        {
          "output_type": "execute_result",
          "data": {
            "text/plain": [
              "(60000, 10)"
            ]
          },
          "metadata": {},
          "execution_count": 47
        }
      ]
    },
    {
      "cell_type": "code",
      "source": [
        "#Valor despues de aplicar la transformacion para la primer imagen\n",
        "y_train[0]"
      ],
      "metadata": {
        "colab": {
          "base_uri": "https://localhost:8080/"
        },
        "id": "Lrarz0DMN60l",
        "outputId": "49d4e7e0-de86-48f8-f64d-b901e02750da"
      },
      "execution_count": null,
      "outputs": [
        {
          "output_type": "execute_result",
          "data": {
            "text/plain": [
              "array([0., 0., 0., 0., 0., 1., 0., 0., 0., 0.], dtype=float32)"
            ]
          },
          "metadata": {},
          "execution_count": 48
        }
      ]
    },
    {
      "cell_type": "markdown",
      "source": [
        "**LISTO, YA TENEMOS LOS DATOS EN EL FORMATO QUE NECESITAMOS PARA USARLOS EN NUESTRO MODELO.**"
      ],
      "metadata": {
        "id": "kki-MWa5OPjJ"
      }
    },
    {
      "cell_type": "code",
      "source": [
        "# Creación del modelo básico usando 'Sequential'. Esta clase permite la creación de una red neuronal básica\n",
        "\n",
        "from tensorflow.keras import layers\n",
        "from keras.layers import Activation, Dense\n",
        "from keras.models import Sequential\n",
        "\n",
        "model = Sequential()\n",
        "model.add(Dense(10, activation='sigmoid', input_shape=(784,)))\n",
        "model.add(Dense(10,activation='softmax'))\n",
        "\n",
        "#Parámetros de las capas Dense --> Ver documentación\n",
        "#Un parámetro importante puede ser los valores de INICIO de los PESOS (W). Los podemos inicializar con un cierto valor para que el problema converja rápido.\n",
        "\n",
        "\"\"\" En este caso, la red neuronal se ha definido como una secuencia de dos capas densas que están COMPLETAMENTE CONECTADAS (todas las neuronas de la primera capa están conectadas con las de\n",
        "la siguiente capa). \n",
        "    El input_shape indica explicitamente cómo son los datos de entrada: un tensor que indica que tenemos 784 features. Cada pixel de una imagen es una caracteristica.\n",
        "\"\"\""
      ],
      "metadata": {
        "colab": {
          "base_uri": "https://localhost:8080/",
          "height": 53
        },
        "id": "lfqI4KW9OVlS",
        "outputId": "2ec6d4b4-d82d-4871-e8ce-edc4cabca564"
      },
      "execution_count": null,
      "outputs": [
        {
          "output_type": "execute_result",
          "data": {
            "text/plain": [
              "' En este caso, la red neuronal se ha definido como una secuencia de dos capas densas que están COMPLETAMENTE CONECTADAS (todas las neuronas de la primera capa están conectadas con las de\\nla siguiente capa). \\n    El input_shape indica explicitamente cómo son los datos de entrada: un tensor que indica que tenemos 784 features. Cada pixel de una imagen es una caracteristica.\\n'"
            ],
            "application/vnd.google.colaboratory.intrinsic+json": {
              "type": "string"
            }
          },
          "metadata": {},
          "execution_count": 49
        }
      ]
    },
    {
      "cell_type": "markdown",
      "source": [
        "**EN GENERAL, LA CAPA DE SALIDA DE UNA RED DE CLASIFICACION TENDRA TANTAS NEURONAS COMO CLASES. MENOS EN UNA CLASIFICACION BINARIA EN DONDE SOLO SE NECESITARÁ UNA NEURONA**"
      ],
      "metadata": {
        "id": "G-YIfeTpXJnM"
      }
    },
    {
      "cell_type": "code",
      "source": [
        "# UTIL: Para ver la forma de un modelo\n",
        "\n",
        "model.summary()"
      ],
      "metadata": {
        "colab": {
          "base_uri": "https://localhost:8080/"
        },
        "id": "YQJzQ7WgXbBT",
        "outputId": "88340005-873f-454a-a950-93b682a3de05"
      },
      "execution_count": null,
      "outputs": [
        {
          "output_type": "stream",
          "name": "stdout",
          "text": [
            "Model: \"sequential_1\"\n",
            "_________________________________________________________________\n",
            " Layer (type)                Output Shape              Param #   \n",
            "=================================================================\n",
            " dense_2 (Dense)             (None, 10)                7850      \n",
            "                                                                 \n",
            " dense_3 (Dense)             (None, 10)                110       \n",
            "                                                                 \n",
            "=================================================================\n",
            "Total params: 7,960\n",
            "Trainable params: 7,960\n",
            "Non-trainable params: 0\n",
            "_________________________________________________________________\n"
          ]
        }
      ]
    },
    {
      "cell_type": "markdown",
      "source": [
        "**Loss Function** (Funcion de coste) --> Sirve para evaluar el error entre las salidas calculadas y las salidas deseadas de los datos de entrenamiento. Ejemplo: categorical_crossentropy\n",
        "\n",
        "** Optimizador ** Manera que tenemos de ir mejorando y reduciendo el error (loss function) para acercar los pesos (w) al optimo.\n",
        "\n",
        "** Métrica ** Qué metrica buscamos optimizar? Ejemplo Accuracy (precisión): Fracción de las imágenes que son correctamente clasificadas."
      ],
      "metadata": {
        "id": "9FQbz5_jWkCF"
      }
    },
    {
      "cell_type": "code",
      "source": [
        "model.compile(loss=\"categorical_crossentropy\", optimizer=\"sgd\", metrics=['accuracy'])"
      ],
      "metadata": {
        "id": "K1gn9USDWs0f"
      },
      "execution_count": null,
      "outputs": []
    },
    {
      "cell_type": "markdown",
      "source": [
        "**epochs** --> Cantidad de veces que usaremos todos los datos en el proceso de aprendizaje."
      ],
      "metadata": {
        "id": "wSjv_oRCktja"
      }
    },
    {
      "cell_type": "code",
      "source": [
        "#Entrenamiento propiamente dicho\n",
        "model.fit(x_train, y_train, epochs=5)"
      ],
      "metadata": {
        "colab": {
          "base_uri": "https://localhost:8080/"
        },
        "id": "VKKLyXRBkzmv",
        "outputId": "20151806-5e53-44d2-b2b3-a5435e95a978"
      },
      "execution_count": null,
      "outputs": [
        {
          "output_type": "stream",
          "name": "stdout",
          "text": [
            "Epoch 1/5\n",
            "1875/1875 [==============================] - 3s 2ms/step - loss: 1.9009 - accuracy: 0.5098\n",
            "Epoch 2/5\n",
            "1875/1875 [==============================] - 3s 2ms/step - loss: 1.3073 - accuracy: 0.6953\n",
            "Epoch 3/5\n",
            "1875/1875 [==============================] - 3s 2ms/step - loss: 0.9849 - accuracy: 0.7765\n",
            "Epoch 4/5\n",
            "1875/1875 [==============================] - 3s 2ms/step - loss: 0.8007 - accuracy: 0.8174\n",
            "Epoch 5/5\n",
            "1875/1875 [==============================] - 3s 2ms/step - loss: 0.6842 - accuracy: 0.8429\n"
          ]
        },
        {
          "output_type": "execute_result",
          "data": {
            "text/plain": [
              "<keras.callbacks.History at 0x7f499b24fb50>"
            ]
          },
          "metadata": {},
          "execution_count": 52
        }
      ]
    },
    {
      "cell_type": "code",
      "source": [
        "#Evaluamos el modelo. \"evaluate() devuelve 2 parametros: loss y accuracy\"\n",
        "\n",
        "validate_loss, validate_acc = model.evaluate(x_test, y_test)"
      ],
      "metadata": {
        "colab": {
          "base_uri": "https://localhost:8080/"
        },
        "id": "cpAcRwxhmDwY",
        "outputId": "33266a10-1537-49b7-fa5f-26c8ccc126ae"
      },
      "execution_count": null,
      "outputs": [
        {
          "output_type": "stream",
          "name": "stdout",
          "text": [
            "313/313 [==============================] - 1s 1ms/step - loss: 0.6252 - accuracy: 0.8607\n"
          ]
        }
      ]
    },
    {
      "cell_type": "code",
      "source": [
        "#Accuracy = Precisión. Qué porcentaje de los datos clasifica correctamente. En este caso el 87% de los registros del set de testeo fueron clasificados correctamente. \n",
        "#Accuracy = Predicciones correctas/ Total de las predicciones\n",
        "\n",
        "print(\"Accuracy\", validate_acc)"
      ],
      "metadata": {
        "colab": {
          "base_uri": "https://localhost:8080/"
        },
        "id": "xpf2PQXnmPfl",
        "outputId": "ecfb3ac3-535a-402d-920a-8d00dcbb6e43"
      },
      "execution_count": null,
      "outputs": [
        {
          "output_type": "stream",
          "name": "stdout",
          "text": [
            "Accuracy 0.8607000112533569\n"
          ]
        }
      ]
    },
    {
      "cell_type": "code",
      "source": [
        "#Recall = Indica cómo de bien el modelo evita los falsos negativos. Los falsos negativos son MUY importantes. Podría ser trágico si decis que una imagen no es melanoma y efectivamente lo era.\n",
        "#Recall = Se calcula sobre todos los true_positives. Es decir (melanomas predichos correctamente / todos los melanomas )\n",
        "#Recall = VP / (VP + FN)\n",
        "\n",
        "\"\"\" La conveniencia de usar una métrica u otra dependerá de cada caso en particular y del COSTE asociado a cada error de clasificacion del modelo \"\"\" "
      ],
      "metadata": {
        "colab": {
          "base_uri": "https://localhost:8080/",
          "height": 35
        },
        "id": "Yz3vU5PHGq4y",
        "outputId": "6011cd00-4abb-47cd-a5db-795cf545e662"
      },
      "execution_count": null,
      "outputs": [
        {
          "output_type": "execute_result",
          "data": {
            "text/plain": [
              "' La conveniencia de usar una métrica u otra dependerá de cada caso en particular y del COSTE asociado a cada error de clasificacion del modelo '"
            ],
            "application/vnd.google.colaboratory.intrinsic+json": {
              "type": "string"
            }
          },
          "metadata": {},
          "execution_count": 55
        }
      ]
    },
    {
      "cell_type": "code",
      "source": [
        "#Ahora vamos a realizar una predicción sobre una imagen determinada usando el modelo ya entrenado\n",
        "#Imagen que vamos a utilizar:\n",
        "\n",
        "\n",
        "#Pude hacer el reshape de todo el array de imágenes. No de la imágen individual.\n",
        "#Le hacemos reshape a 28x28 para ver la imagen con imshow.\n",
        "\n",
        "x_test_original = x_test.reshape(10000,28,28)\n",
        "print(x_test_original[11].shape)\n",
        "\n",
        "plt.imshow(x_test_original[11], cmap=plt.cm.binary)"
      ],
      "metadata": {
        "colab": {
          "base_uri": "https://localhost:8080/",
          "height": 300
        },
        "id": "QPVn0N4OINt8",
        "outputId": "c90fcc92-6325-4c53-ad43-055117090f69"
      },
      "execution_count": null,
      "outputs": [
        {
          "output_type": "stream",
          "name": "stdout",
          "text": [
            "(28, 28)\n"
          ]
        },
        {
          "output_type": "execute_result",
          "data": {
            "text/plain": [
              "<matplotlib.image.AxesImage at 0x7f499fc24310>"
            ]
          },
          "metadata": {},
          "execution_count": 56
        },
        {
          "output_type": "display_data",
          "data": {
            "text/plain": [
              "<Figure size 432x288 with 1 Axes>"
            ],
            "image/png": "[encoded data removed]"
          },
          "metadata": {
            "needs_background": "light"
          }
        }
      ]
    },
    {
      "cell_type": "code",
      "source": [
        "#Predicciones\n",
        "import numpy as np\n",
        "\n",
        "predictions = model.predict(x_test)\n",
        "print(predictions[11]) # Probabilidades para la imagen 11.\n",
        "print(np.argmax(predictions[11])) #Indice de la posición que contiene el valor más alto.\n",
        "print(np.sum(predictions[11])) #Suma de todas las probabilidades. Debe ser igual a 1"
      ],
      "metadata": {
        "colab": {
          "base_uri": "https://localhost:8080/"
        },
        "id": "pPsbzdCcvKnt",
        "outputId": "8852a9f2-740a-4ff4-a17d-990ea0598462"
      },
      "execution_count": null,
      "outputs": [
        {
          "output_type": "stream",
          "name": "stdout",
          "text": [
            "[0.04782686 0.01966085 0.11770047 0.05761197 0.02621655 0.07210248\n",
            " 0.54781944 0.00195621 0.10050131 0.00860388]\n",
            "6\n",
            "1.0000001\n"
          ]
        }
      ]
    }
  ]
}