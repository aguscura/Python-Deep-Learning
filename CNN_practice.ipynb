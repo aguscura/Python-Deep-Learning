{
  "nbformat": 4,
  "nbformat_minor": 0,
  "metadata": {
    "colab": {
      "name": "CNN-practice.ipynb",
      "provenance": [],
      "authorship_tag": "ABX9TyMqDF8CYrdE5mMOlD7yViMg",
      "include_colab_link": true
    },
    "kernelspec": {
      "name": "python3",
      "display_name": "Python 3"
    },
    "language_info": {
      "name": "python"
    }
  },
  "cells": [
    {
      "cell_type": "markdown",
      "metadata": {
        "id": "view-in-github",
        "colab_type": "text"
      },
      "source": [
        "<a href=\"https://colab.research.google.com/github/aguscura/Python-Deep-Learning/blob/main/CNN_practice.ipynb\" target=\"_parent\"><img src=\"https://colab.research.google.com/assets/colab-badge.svg\" alt=\"Open In Colab\"/></a>"
      ]
    },
    {
      "cell_type": "markdown",
      "source": [
        "Ventana capa convolucional: 5x5\n",
        "\n",
        "Ventana capa de pooling: 2x2\n",
        "\n",
        "Filtros: 32\n",
        "\n",
        "Activación: ReLU."
      ],
      "metadata": {
        "id": "56ngGANqAprI"
      }
    },
    {
      "cell_type": "code",
      "source": [
        "from tensorflow.keras import Sequential\n",
        "from tensorflow.keras.layers import Conv2D\n",
        "from tensorflow.keras.layers import MaxPooling2D\n",
        "\n",
        "model = Sequential()\n",
        "model.add(Conv2D(32, (5,5), activation='relu', input_shape=(28,28,1)))\n",
        "model.add(MaxPooling2D((2,2)))"
      ],
      "metadata": {
        "id": "g3UQI2qTA7_5"
      },
      "execution_count": 8,
      "outputs": []
    },
    {
      "cell_type": "code",
      "source": [
        "model.summary()"
      ],
      "metadata": {
        "colab": {
          "base_uri": "https://localhost:8080/"
        },
        "id": "AnnlaII4BpiM",
        "outputId": "1831c5af-fe45-4b91-f3c0-9c936d948718"
      },
      "execution_count": 9,
      "outputs": [
        {
          "output_type": "stream",
          "name": "stdout",
          "text": [
            "Model: \"sequential_1\"\n",
            "_________________________________________________________________\n",
            " Layer (type)                Output Shape              Param #   \n",
            "=================================================================\n",
            " conv2d_2 (Conv2D)           (None, 24, 24, 32)        832       \n",
            "                                                                 \n",
            " max_pooling2d_2 (MaxPooling  (None, 12, 12, 32)       0         \n",
            " 2D)                                                             \n",
            "                                                                 \n",
            "=================================================================\n",
            "Total params: 832\n",
            "Trainable params: 832\n",
            "Non-trainable params: 0\n",
            "_________________________________________________________________\n"
          ]
        }
      ]
    },
    {
      "cell_type": "markdown",
      "source": [
        "**832 parámetros.**\n",
        "\n",
        "Como dijimos, cada filtro se compone de una ventana de (pesos + sesgo) de 5x5. En resumen, estamos agarrando una ventana de 5x5 de la imagen de entrada (de 28x28), le aplicamos este filtro mencionado y obtenemos la salida de 24x24.\n",
        "\n",
        "Por eso la cantidad de 832 se explica así:\n",
        "\n",
        "(5 x 5) + 1 (sesgo) = 26 parámetros para cada filtro\n",
        "\n",
        "con 32 filtros:\n",
        "\n",
        "parametros totales = 26 * 32 = 832.\n",
        "\n",
        "\n",
        "La capa de pooling no tiene parametros entrenables porque siempre agarra el máximo.\n"
      ],
      "metadata": {
        "id": "-5fTRTwlCIot"
      }
    },
    {
      "cell_type": "code",
      "source": [
        "# Hacemos nuestra red mas profunda, agregamos otra capa convolucional con 64 filtros mas y otra de pooling con ventana 2x2. \n",
        "# El input shape solo es necesario aclararlo en la primera capa. Luego keras lo deduce por nosotros\n",
        "\n",
        "#Importante, ver que ahora la segunda capa convolucional tiene un tamaño de 8x8. Eso es porque la entrada de esta capa es la salida de la capa anterior (12x12).\n",
        "#Luego, al tener una ventana deslizante de 5x5 y un stride o 'paso' de 1, la capa resultante es de 8x8. \n",
        "\n",
        "#Parámetros de la nueva capa:\n",
        "#(Tamaño de la ventana * filtros de la capa anterior + sesgo ) * filtros de esta nueva capa\n",
        "#       (((5x5)* 32) + 1 ) * 64 = 51264.\n",
        "\n",
        "model.add(Conv2D(64, (5,5), activation='relu'))\n",
        "model.add(MaxPooling2D((2,2)))"
      ],
      "metadata": {
        "id": "Le8MK7WAHNRa"
      },
      "execution_count": 10,
      "outputs": []
    },
    {
      "cell_type": "code",
      "source": [
        "model.summary()"
      ],
      "metadata": {
        "colab": {
          "base_uri": "https://localhost:8080/"
        },
        "id": "Z_ybEdDXHh4g",
        "outputId": "84bbf60d-441e-4b40-88d0-d779ae33a3f1"
      },
      "execution_count": 11,
      "outputs": [
        {
          "output_type": "stream",
          "name": "stdout",
          "text": [
            "Model: \"sequential_1\"\n",
            "_________________________________________________________________\n",
            " Layer (type)                Output Shape              Param #   \n",
            "=================================================================\n",
            " conv2d_2 (Conv2D)           (None, 24, 24, 32)        832       \n",
            "                                                                 \n",
            " max_pooling2d_2 (MaxPooling  (None, 12, 12, 32)       0         \n",
            " 2D)                                                             \n",
            "                                                                 \n",
            " conv2d_3 (Conv2D)           (None, 8, 8, 64)          51264     \n",
            "                                                                 \n",
            " max_pooling2d_3 (MaxPooling  (None, 4, 4, 64)         0         \n",
            " 2D)                                                             \n",
            "                                                                 \n",
            "=================================================================\n",
            "Total params: 52,096\n",
            "Trainable params: 52,096\n",
            "Non-trainable params: 0\n",
            "_________________________________________________________________\n"
          ]
        }
      ]
    },
    {
      "cell_type": "code",
      "source": [
        "# Ahora sí, para hacer la clasificacion, conectamos una capa DENSAMENTE CONECTADA.\n",
        "# Esta ultima capa SI VA A ESTAR CONECTADA A TODAS LAS NEURONAS DEL PASO ANTERIOR.\n",
        "\n",
        "from tensorflow.keras import layers\n",
        "\n",
        "model.add(layers.Flatten())\n",
        "model.add(layers.Dense(10, activation='softmax'))"
      ],
      "metadata": {
        "id": "i64bK2qvJKxQ"
      },
      "execution_count": 12,
      "outputs": []
    },
    {
      "cell_type": "markdown",
      "source": [
        "# IMPORTANTE\n",
        "\n",
        "Antes de agregar la ultima capa densamente conectada con la funcion de activación softmax para obtener las probabilidades, tenemos que **APLANAR** su entrada.\n",
        "\n",
        "El tensor de entrada a una capa final softmax es de 1D, mientras que la salida que teniamos luego del segundo maxpooling era un tensor 3D (4,4,64). \n",
        "\n",
        "Para eso, tenemos la capa flatten que nos permite obtener un vector de [1024] ( 4x4x64).\n",
        "\n",
        "El número de parámetros de la capa densamente conectada será: \n",
        "\n",
        "TAMAÑO DE LA ENTRADA * PESOS + SESGOS (siendo pesos y sesgos igual al numero de neuronas de la capa densa de salida)\n",
        "\n",
        " (1024 * 10) + 10 = 10.250"
      ],
      "metadata": {
        "id": "vNKPNKmiKT2h"
      }
    },
    {
      "cell_type": "code",
      "source": [
        "model.summary()"
      ],
      "metadata": {
        "colab": {
          "base_uri": "https://localhost:8080/"
        },
        "id": "u5djyScpJdub",
        "outputId": "f82a0e30-717e-4806-c361-4f85e240d99b"
      },
      "execution_count": 13,
      "outputs": [
        {
          "output_type": "stream",
          "name": "stdout",
          "text": [
            "Model: \"sequential_1\"\n",
            "_________________________________________________________________\n",
            " Layer (type)                Output Shape              Param #   \n",
            "=================================================================\n",
            " conv2d_2 (Conv2D)           (None, 24, 24, 32)        832       \n",
            "                                                                 \n",
            " max_pooling2d_2 (MaxPooling  (None, 12, 12, 32)       0         \n",
            " 2D)                                                             \n",
            "                                                                 \n",
            " conv2d_3 (Conv2D)           (None, 8, 8, 64)          51264     \n",
            "                                                                 \n",
            " max_pooling2d_3 (MaxPooling  (None, 4, 4, 64)         0         \n",
            " 2D)                                                             \n",
            "                                                                 \n",
            " flatten (Flatten)           (None, 1024)              0         \n",
            "                                                                 \n",
            " dense_1 (Dense)             (None, 10)                10250     \n",
            "                                                                 \n",
            "=================================================================\n",
            "Total params: 62,346\n",
            "Trainable params: 62,346\n",
            "Non-trainable params: 0\n",
            "_________________________________________________________________\n"
          ]
        }
      ]
    }
  ]
}