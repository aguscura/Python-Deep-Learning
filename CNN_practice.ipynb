{
  "nbformat": 4,
  "nbformat_minor": 0,
  "metadata": {
    "colab": {
      "name": "CNN-practice.ipynb",
      "provenance": [],
      "authorship_tag": "ABX9TyPWR5z0CbuLkqCOSC+MwtkA",
      "include_colab_link": true
    },
    "kernelspec": {
      "name": "python3",
      "display_name": "Python 3"
    },
    "language_info": {
      "name": "python"
    }
  },
  "cells": [
    {
      "cell_type": "markdown",
      "metadata": {
        "id": "view-in-github",
        "colab_type": "text"
      },
      "source": [
        "<a href=\"https://colab.research.google.com/github/aguscura/Python-Deep-Learning/blob/main/CNN_practice.ipynb\" target=\"_parent\"><img src=\"https://colab.research.google.com/assets/colab-badge.svg\" alt=\"Open In Colab\"/></a>"
      ]
    },
    {
      "cell_type": "markdown",
      "source": [
        "Ventana capa convolucional: 5x5\n",
        "\n",
        "Ventana capa de pooling: 2x2\n",
        "\n",
        "Filtros: 32\n",
        "\n",
        "Activación: ReLU."
      ],
      "metadata": {
        "id": "56ngGANqAprI"
      }
    },
    {
      "cell_type": "code",
      "source": [
        "from tensorflow.keras import Sequential\n",
        "from tensorflow.keras.layers import Conv2D\n",
        "from tensorflow.keras.layers import MaxPooling2D\n",
        "\n",
        "model = Sequential()\n",
        "model.add(Conv2D(32, (5,5), activation='relu', input_shape=(28,28,1)))\n",
        "model.add(MaxPooling2D((2,2)))"
      ],
      "metadata": {
        "id": "g3UQI2qTA7_5"
      },
      "execution_count": 1,
      "outputs": []
    },
    {
      "cell_type": "code",
      "source": [
        "model.summary()"
      ],
      "metadata": {
        "colab": {
          "base_uri": "https://localhost:8080/"
        },
        "id": "AnnlaII4BpiM",
        "outputId": "55b8af35-c53c-4a89-f7e6-84e4e8db5114"
      },
      "execution_count": 2,
      "outputs": [
        {
          "output_type": "stream",
          "name": "stdout",
          "text": [
            "Model: \"sequential\"\n",
            "_________________________________________________________________\n",
            " Layer (type)                Output Shape              Param #   \n",
            "=================================================================\n",
            " conv2d (Conv2D)             (None, 24, 24, 32)        832       \n",
            "                                                                 \n",
            " max_pooling2d (MaxPooling2D  (None, 12, 12, 32)       0         \n",
            " )                                                               \n",
            "                                                                 \n",
            "=================================================================\n",
            "Total params: 832\n",
            "Trainable params: 832\n",
            "Non-trainable params: 0\n",
            "_________________________________________________________________\n"
          ]
        }
      ]
    },
    {
      "cell_type": "markdown",
      "source": [
        "**832 parámetros.**\n",
        "\n",
        "Como dijimos, cada filtro se compone de una ventana de (pesos + sesgo) de 5x5. En resumen, estamos agarrando una ventana de 5x5 de la imagen de entrada (de 28x28), le aplicamos este filtro mencionado y obtenemos la salida de 24x24.\n",
        "\n",
        "Por eso la cantidad de 832 se explica así:\n",
        "\n",
        "(5 x 5) + 1 (sesgo) = 26 parámetros para cada filtro\n",
        "\n",
        "con 32 filtros:\n",
        "\n",
        "parametros totales = 26 * 32 = 832.\n",
        "\n",
        "\n",
        "La capa de pooling no tiene parametros entrenables porque siempre agarra el máximo.\n"
      ],
      "metadata": {
        "id": "-5fTRTwlCIot"
      }
    },
    {
      "cell_type": "code",
      "source": [
        "# Hacemos nuestra red mas profunda, agregamos otra capa convolucional con 64 filtros mas y otra de pooling con ventana 2x2. \n",
        "# El input shape solo es necesario aclararlo en la primera capa. Luego keras lo deduce por nosotros\n",
        "\n",
        "#Importante, ver que ahora la segunda capa convolucional tiene un tamaño de 8x8. Eso es porque la entrada de esta capa es la salida de la capa anterior (12x12).\n",
        "#Luego, al tener una ventana deslizante de 5x5 y un stride o 'paso' de 1, la capa resultante es de 8x8. \n",
        "\n",
        "#Parámetros de la nueva capa:\n",
        "#(Tamaño de la ventana * filtros de la capa anterior + sesgo ) * filtros de esta nueva capa\n",
        "#       (((5x5)* 32) + 1 ) * 64 = 51264.\n",
        "\n",
        "model.add(Conv2D(64, (5,5), activation='relu'))\n",
        "model.add(MaxPooling2D((2,2)))"
      ],
      "metadata": {
        "id": "Le8MK7WAHNRa"
      },
      "execution_count": 3,
      "outputs": []
    },
    {
      "cell_type": "code",
      "source": [
        "model.summary()"
      ],
      "metadata": {
        "colab": {
          "base_uri": "https://localhost:8080/"
        },
        "id": "Z_ybEdDXHh4g",
        "outputId": "3d3e8115-a0d9-41b2-e1ec-4d53df508706"
      },
      "execution_count": 4,
      "outputs": [
        {
          "output_type": "stream",
          "name": "stdout",
          "text": [
            "Model: \"sequential\"\n",
            "_________________________________________________________________\n",
            " Layer (type)                Output Shape              Param #   \n",
            "=================================================================\n",
            " conv2d (Conv2D)             (None, 24, 24, 32)        832       \n",
            "                                                                 \n",
            " max_pooling2d (MaxPooling2D  (None, 12, 12, 32)       0         \n",
            " )                                                               \n",
            "                                                                 \n",
            " conv2d_1 (Conv2D)           (None, 8, 8, 64)          51264     \n",
            "                                                                 \n",
            " max_pooling2d_1 (MaxPooling  (None, 4, 4, 64)         0         \n",
            " 2D)                                                             \n",
            "                                                                 \n",
            "=================================================================\n",
            "Total params: 52,096\n",
            "Trainable params: 52,096\n",
            "Non-trainable params: 0\n",
            "_________________________________________________________________\n"
          ]
        }
      ]
    },
    {
      "cell_type": "code",
      "source": [
        "# Ahora sí, para hacer la clasificacion, conectamos una capa DENSAMENTE CONECTADA.\n",
        "# Esta ultima capa SI VA A ESTAR CONECTADA A TODAS LAS NEURONAS DEL PASO ANTERIOR.\n",
        "\n",
        "from tensorflow.keras import layers\n",
        "\n",
        "model.add(layers.Flatten())\n",
        "model.add(layers.Dense(10, activation='softmax'))"
      ],
      "metadata": {
        "id": "i64bK2qvJKxQ"
      },
      "execution_count": 5,
      "outputs": []
    },
    {
      "cell_type": "markdown",
      "source": [
        "# IMPORTANTE\n",
        "\n",
        "Antes de agregar la ultima capa densamente conectada con la funcion de activación softmax para obtener las probabilidades, tenemos que **APLANAR** su entrada.\n",
        "\n",
        "El tensor de entrada a una capa final softmax es de 1D, mientras que la salida que teniamos luego del segundo maxpooling era un tensor 3D (4,4,64). \n",
        "\n",
        "Para eso, tenemos la capa flatten que nos permite obtener un vector de [1024] ( 4x4x64).\n",
        "\n",
        "El número de parámetros de la capa densamente conectada será: \n",
        "\n",
        "TAMAÑO DE LA ENTRADA * PESOS + SESGOS (siendo pesos y sesgos igual al numero de neuronas de la capa densa de salida)\n",
        "\n",
        " (1024 * 10) + 10 = 10.250"
      ],
      "metadata": {
        "id": "vNKPNKmiKT2h"
      }
    },
    {
      "cell_type": "code",
      "source": [
        "model.summary()"
      ],
      "metadata": {
        "colab": {
          "base_uri": "https://localhost:8080/"
        },
        "id": "u5djyScpJdub",
        "outputId": "2cc25843-bc90-42bb-a2ed-1e8565d3a3d5"
      },
      "execution_count": 6,
      "outputs": [
        {
          "output_type": "stream",
          "name": "stdout",
          "text": [
            "Model: \"sequential\"\n",
            "_________________________________________________________________\n",
            " Layer (type)                Output Shape              Param #   \n",
            "=================================================================\n",
            " conv2d (Conv2D)             (None, 24, 24, 32)        832       \n",
            "                                                                 \n",
            " max_pooling2d (MaxPooling2D  (None, 12, 12, 32)       0         \n",
            " )                                                               \n",
            "                                                                 \n",
            " conv2d_1 (Conv2D)           (None, 8, 8, 64)          51264     \n",
            "                                                                 \n",
            " max_pooling2d_1 (MaxPooling  (None, 4, 4, 64)         0         \n",
            " 2D)                                                             \n",
            "                                                                 \n",
            " flatten (Flatten)           (None, 1024)              0         \n",
            "                                                                 \n",
            " dense (Dense)               (None, 10)                10250     \n",
            "                                                                 \n",
            "=================================================================\n",
            "Total params: 62,346\n",
            "Trainable params: 62,346\n",
            "Non-trainable params: 0\n",
            "_________________________________________________________________\n"
          ]
        }
      ]
    },
    {
      "cell_type": "markdown",
      "source": [
        "# IMPORTANTE\n",
        "\n",
        "Las redes neuronales convolucionales toman de entrada un tensor 3D (ancho, alto, canales (profundidad). \n",
        "\n",
        "Las redes densamente conectadas tomaban como entrada un vector de 1D. Por eso usabamos el flatten antes."
      ],
      "metadata": {
        "id": "U1pKoV3p806n"
      }
    },
    {
      "cell_type": "code",
      "source": [
        "from tensorflow.keras.utils import to_categorical\n",
        "import tensorflow as tf\n",
        "\n",
        "mnist = tf.keras.datasets.mnist\n",
        "(train_images, train_labels),(test_images, test_labels) = mnist.load_data()\n",
        "\n",
        "train_images = train_images.reshape((60000,28,28,1)) #depth = 1 (escala de grises, no RGB)\n",
        "test_images = test_images.reshape((10000,28,28,1))\n",
        "\n",
        "train_images = train_images.astype('float32') / 255\n",
        "test_images = test_images.astype('float32') / 255\n",
        "\n",
        "print(train_labels)\n",
        "\n",
        "train_labels = to_categorical(train_labels)\n",
        "test_labels = to_categorical(test_labels)\n",
        "\n",
        "model.compile(loss='categorical_crossentropy',\n",
        "              optimizer='sgd',\n",
        "              metrics=['accuracy'])\n",
        "\n",
        "model.fit(train_images, train_labels, verbose=1, epochs=5, batch_size=100)\n",
        "\n",
        "test_loss, test_acc = model.evaluate(test_images, test_labels)\n",
        "\n",
        "print('Test Accuracy:', test_acc)"
      ],
      "metadata": {
        "colab": {
          "base_uri": "https://localhost:8080/"
        },
        "id": "A2gqudDM9S51",
        "outputId": "5aa962fb-9cc4-4c7f-b685-99978cb4247e"
      },
      "execution_count": 16,
      "outputs": [
        {
          "output_type": "stream",
          "name": "stdout",
          "text": [
            "[5 0 4 ... 5 6 8]\n",
            "Epoch 1/5\n",
            "600/600 [==============================] - 51s 85ms/step - loss: 0.8869 - accuracy: 0.7698\n",
            "Epoch 2/5\n",
            "600/600 [==============================] - 52s 87ms/step - loss: 0.2641 - accuracy: 0.9216\n",
            "Epoch 3/5\n",
            "600/600 [==============================] - 51s 85ms/step - loss: 0.1910 - accuracy: 0.9445\n",
            "Epoch 4/5\n",
            "600/600 [==============================] - 52s 87ms/step - loss: 0.1529 - accuracy: 0.9551\n",
            "Epoch 5/5\n",
            "600/600 [==============================] - 52s 87ms/step - loss: 0.1291 - accuracy: 0.9621\n",
            "313/313 [==============================] - 3s 8ms/step - loss: 0.1009 - accuracy: 0.9716\n",
            "Test Accuracy: 0.9715999960899353\n"
          ]
        }
      ]
    }
  ]
}