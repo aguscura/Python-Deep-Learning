{
  "nbformat": 4,
  "nbformat_minor": 0,
  "metadata": {
    "colab": {
      "name": "CNN-hiperparametros.ipynb",
      "provenance": [],
      "authorship_tag": "ABX9TyNuTlJQGR3AQGrS2L/Uloit",
      "include_colab_link": true
    },
    "kernelspec": {
      "name": "python3",
      "display_name": "Python 3"
    },
    "language_info": {
      "name": "python"
    }
  },
  "cells": [
    {
      "cell_type": "markdown",
      "metadata": {
        "id": "view-in-github",
        "colab_type": "text"
      },
      "source": [
        "<a href=\"https://colab.research.google.com/github/aguscura/Python-Deep-Learning/blob/main/CNN_hiperparametros.ipynb\" target=\"_parent\"><img src=\"https://colab.research.google.com/assets/colab-badge.svg\" alt=\"Open In Colab\"/></a>"
      ]
    },
    {
      "cell_type": "markdown",
      "source": [
        "# PADDING\n",
        "\n",
        "Cuando partimos de una imágen de entrada de, por ejemplo, 28x28 y aplicamos un filtro en la capa convolucional de 5x5, la capa resultante es de tamaño 24x24. Esto se debe a que la ventanita de 5x5 va recorriendo la imagen de entrada, aplicando el filtro, hasta que la ventana llega al 'borde' derecho de la imagen y luego hasta el 'piso' inferior. \n",
        "\n",
        "Si nosotros queremos obtener un resultado en la salida de tamaño 28x28 (mismo tamaño que la imagen inicial) tenemos que aplicar **padding**. Esto implica agregarle ceros a la imagen de entrada (aumentando su cantidad de pixeles) para que la salida de la capa convolucional tenga el mismo tamaño que la imagen original. \n",
        "\n",
        "En este ejemplo sería, a la imagen original de 28x28 le agregamos filas arriba y abajo + columnas a la izquierda y a la derecha, rellenas con ceros, para lograr una entrada de 32x32 (dos filas de ceros arriba, dos abajo y dos columnas de ceros a la izquierda y dos a la derecha) para que luego de aplicar el filtro de 5x5, la salida de la capa convolucional sea de 28x28 (mismo tamaño que la imagen original)."
      ],
      "metadata": {
        "id": "V9SAUeTIFmMT"
      }
    },
    {
      "cell_type": "markdown",
      "source": [
        "# STRIDE\n",
        "\n",
        "Es el avance de la ventana de la capa convolucional a traves de la imágen.\n",
        "strides = (1,1) --> Es el argumento para el código.\n",
        "Poner un stride o 'paso' mayor a 1 reduce la informacion que va a llegar a la capa siguiente. Y tambien, un stride más grande reduce el tamaño de la capa de salida. Para reducir el tamaño usamos operaciones de pooling."
      ],
      "metadata": {
        "id": "7h-qXuOOLK6I"
      }
    }
  ]
}